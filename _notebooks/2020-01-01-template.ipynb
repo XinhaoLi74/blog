{
 "cells": [
  {
   "cell_type": "code",
   "execution_count": null,
   "metadata": {},
   "outputs": [],
   "source": [
    "# Fastpages Notebook Blog Post\n",
    "> Titile\n",
    "\n",
    "- toc: true \n",
    "- badges: true\n",
    "- comments: true\n",
    "# a list of tags\n",
    "- categories: [jupyter] \n",
    "# change to false when ready to publish    \n",
    "- hide: true \n",
    "- search_exclude: true \n",
    "# put a cover image in the /images folder \n",
    "- image: images/chart-preview.png "
   ]
  }
 ],
 "metadata": {
  "kernelspec": {
   "display_name": "Python 3",
   "language": "python",
   "name": "python3"
  },
  "language_info": {
   "codemirror_mode": {
    "name": "ipython",
    "version": 3
   },
   "file_extension": ".py",
   "mimetype": "text/x-python",
   "name": "python",
   "nbconvert_exporter": "python",
   "pygments_lexer": "ipython3",
   "version": "3.7.7"
  }
 },
 "nbformat": 4,
 "nbformat_minor": 4
}
