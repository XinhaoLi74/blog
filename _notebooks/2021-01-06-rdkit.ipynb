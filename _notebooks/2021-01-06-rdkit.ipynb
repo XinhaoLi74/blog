{
 "cells": [
  {
   "cell_type": "markdown",
   "metadata": {},
   "source": [
    "# My RDKit Cheatsheet\n",
    "\n",
    "- toc: true \n",
    "- branch: master\n",
    "- badges: true\n",
    "- comments: true\n",
    "- categories: [rdkit]\n",
    "- image: images/rdkit_logo.png\n",
    "- hide: false\n",
    "- search_exclude: false"
   ]
  },
  {
   "cell_type": "markdown",
   "metadata": {},
   "source": [
    "## Setup"
   ]
  },
  {
   "cell_type": "markdown",
   "metadata": {},
   "source": [
    "The `RDKit` pacakge only supports `conda` installation.\n",
    "\n",
    "```python\n",
    "!conda install -c rdkit rdkit -y\n",
    "\n",
    "```\n",
    "\n",
    "Install Conda and RDKit in Google Colab:\n",
    "\n",
    "```python\n",
    "!wget -c https://repo.continuum.io/miniconda/Miniconda3-py37_4.8.3-Linux-x86_64.sh\n",
    "!chmod +x Miniconda3-py37_4.8.3-Linux-x86_64.sh\n",
    "!time bash ./Miniconda3-py37_4.8.3-Linux-x86_64.sh -b -f -p /usr/local\n",
    "!time conda install -c rdkit rdkit -y \n",
    "\n",
    "import sys\n",
    "sys.path.append('/usr/local/lib/python3.7/site-packages/')\n",
    "```"
   ]
  },
  {
   "cell_type": "markdown",
   "metadata": {},
   "source": [
    "## Basic"
   ]
  },
  {
   "cell_type": "code",
   "execution_count": 1,
   "metadata": {},
   "outputs": [
    {
     "data": {
      "text/plain": [
       "'2020.03.1'"
      ]
     },
     "execution_count": 1,
     "metadata": {},
     "output_type": "execute_result"
    }
   ],
   "source": [
    "import rdkit\n",
    "from rdkit import Chem\n",
    "from rdkit.Chem import AllChem\n",
    "\n",
    "from rdkit.Chem import Draw\n",
    "from rdkit.Chem.Draw import IPythonConsole\n",
    "\n",
    "rdkit.__version__"
   ]
  },
  {
   "cell_type": "markdown",
   "metadata": {},
   "source": [
    "### Chem vs. AllChem\n",
    "\n",
    "As mentioned in the [Getting Started](https://www.rdkit.org/docs/GettingStartedInPython.html#chem-vs-allchem):\n",
    "\n",
    "> The majority of “basic” chemical functionality (e.g. reading/writing molecules, substructure searching, molecular cleanup, etc.) is in the `rdkit.Chem` module. More advanced, or less frequently used, functionality is in `rdkit.Chem.AllChem`. \n",
    "\n",
    "> If you find the Chem/AllChem thing annoying or confusing, you can use python’s “import … as …” syntax to remove the irritation:\n",
    "\n",
    "\n",
    "   ```python\n",
    "    from rdkit.Chem import AllChem as Chem\n",
    "   ```"
   ]
  },
  {
   "cell_type": "markdown",
   "metadata": {},
   "source": [
    "Get a `RDKit molecule` from SMILES. `RDKit molecule` enable several features to handle molecules: drawing, computing fingerprints/properties, molecular curation etc."
   ]
  },
  {
   "cell_type": "code",
   "execution_count": 2,
   "metadata": {},
   "outputs": [
    {
     "name": "stdout",
     "output_type": "stream",
     "text": [
      "<rdkit.Chem.rdchem.Mol object at 0x000001B5567C7260>\n"
     ]
    }
   ],
   "source": [
    "smiles = 'COC(=O)c1c[nH]c2cc(OC(C)C)c(OC(C)C)cc2c1=O'\n",
    "mol = Chem.MolFromSmiles(smiles)\n",
    "print(mol)"
   ]
  },
  {
   "cell_type": "markdown",
   "metadata": {},
   "source": [
    "The RDKit molecules can be directly printed in jupyter enviroment."
   ]
  },
  {
   "cell_type": "code",
   "execution_count": 3,
   "metadata": {},
   "outputs": [
    {
     "data": {
      "image/png": "[encoded data removed]",
      "text/plain": [
       "<rdkit.Chem.rdchem.Mol at 0x1b5567c7260>"
      ]
     },
     "execution_count": 3,
     "metadata": {},
     "output_type": "execute_result"
    }
   ],
   "source": [
    "mol"
   ]
  },
  {
   "cell_type": "markdown",
   "metadata": {},
   "source": [
    "Convert a RDKit molecule to SMILES."
   ]
  },
  {
   "cell_type": "code",
   "execution_count": 4,
   "metadata": {},
   "outputs": [
    {
     "data": {
      "text/plain": [
       "'COC(=O)c1c[nH]c2cc(OC(C)C)c(OC(C)C)cc2c1=O'"
      ]
     },
     "execution_count": 4,
     "metadata": {},
     "output_type": "execute_result"
    }
   ],
   "source": [
    "smi = Chem.MolToSmiles(mol)\n",
    "smi"
   ]
  },
  {
   "cell_type": "markdown",
   "metadata": {},
   "source": [
    "Convert a RDKit molecule to InchiKey."
   ]
  },
  {
   "cell_type": "code",
   "execution_count": 5,
   "metadata": {},
   "outputs": [
    {
     "data": {
      "text/plain": [
       "'VSIUFPQOEIKNCY-UHFFFAOYSA-N'"
      ]
     },
     "execution_count": 5,
     "metadata": {},
     "output_type": "execute_result"
    }
   ],
   "source": [
    "Chem.MolToInchiKey(mol)"
   ]
  },
  {
   "cell_type": "markdown",
   "metadata": {},
   "source": [
    "Convert a RDKit molecule to coordinative representation (which can be stored in `.sdf` file)."
   ]
  },
  {
   "cell_type": "code",
   "execution_count": 6,
   "metadata": {},
   "outputs": [
    {
     "name": "stdout",
     "output_type": "stream",
     "text": [
      "\n",
      "     RDKit          2D\n",
      "\n",
      " 23 24  0  0  0  0  0  0  0  0999 V2000\n",
      "    5.2500   -1.2990    0.0000 C   0  0  0  0  0  0  0  0  0  0  0  0\n",
      "    3.7500   -1.2990    0.0000 O   0  0  0  0  0  0  0  0  0  0  0  0\n",
      "    3.0000    0.0000    0.0000 C   0  0  0  0  0  0  0  0  0  0  0  0\n",
      "    3.7500    1.2990    0.0000 O   0  0  0  0  0  0  0  0  0  0  0  0\n",
      "    1.5000    0.0000    0.0000 C   0  0  0  0  0  0  0  0  0  0  0  0\n",
      "    0.7500   -1.2990    0.0000 C   0  0  0  0  0  0  0  0  0  0  0  0\n",
      "   -0.7500   -1.2990    0.0000 N   0  0  0  0  0  0  0  0  0  0  0  0\n",
      "   -1.5000    0.0000    0.0000 C   0  0  0  0  0  0  0  0  0  0  0  0\n",
      "   -3.0000    0.0000    0.0000 C   0  0  0  0  0  0  0  0  0  0  0  0\n",
      "   -3.7500    1.2990    0.0000 C   0  0  0  0  0  0  0  0  0  0  0  0\n",
      "   -5.2500    1.2990    0.0000 O   0  0  0  0  0  0  0  0  0  0  0  0\n",
      "   -6.0000    0.0000    0.0000 C   0  0  0  0  0  0  0  0  0  0  0  0\n",
      "   -7.5000    0.0000    0.0000 C   0  0  0  0  0  0  0  0  0  0  0  0\n",
      "   -5.2500   -1.2990    0.0000 C   0  0  0  0  0  0  0  0  0  0  0  0\n",
      "   -3.0000    2.5981    0.0000 C   0  0  0  0  0  0  0  0  0  0  0  0\n",
      "   -3.7500    3.8971    0.0000 O   0  0  0  0  0  0  0  0  0  0  0  0\n",
      "   -3.0000    5.1962    0.0000 C   0  0  0  0  0  0  0  0  0  0  0  0\n",
      "   -3.7500    6.4952    0.0000 C   0  0  0  0  0  0  0  0  0  0  0  0\n",
      "   -1.5000    5.1962    0.0000 C   0  0  0  0  0  0  0  0  0  0  0  0\n",
      "   -1.5000    2.5981    0.0000 C   0  0  0  0  0  0  0  0  0  0  0  0\n",
      "   -0.7500    1.2990    0.0000 C   0  0  0  0  0  0  0  0  0  0  0  0\n",
      "    0.7500    1.2990    0.0000 C   0  0  0  0  0  0  0  0  0  0  0  0\n",
      "    1.5000    2.5981    0.0000 O   0  0  0  0  0  0  0  0  0  0  0  0\n",
      "  1  2  1  0\n",
      "  2  3  1  0\n",
      "  3  4  2  0\n",
      "  3  5  1  0\n",
      "  5  6  2  0\n",
      "  6  7  1  0\n",
      "  7  8  1  0\n",
      "  8  9  2  0\n",
      "  9 10  1  0\n",
      " 10 11  1  0\n",
      " 11 12  1  0\n",
      " 12 13  1  0\n",
      " 12 14  1  0\n",
      " 10 15  2  0\n",
      " 15 16  1  0\n",
      " 16 17  1  0\n",
      " 17 18  1  0\n",
      " 17 19  1  0\n",
      " 15 20  1  0\n",
      " 20 21  2  0\n",
      " 21 22  1  0\n",
      " 22 23  2  0\n",
      " 22  5  1  0\n",
      " 21  8  1  0\n",
      "M  END\n",
      "\n"
     ]
    }
   ],
   "source": [
    "#collapse_output\n",
    "mol_block = Chem.MolToMolBlock(mol)\n",
    "print(mol_block)"
   ]
  },
  {
   "cell_type": "markdown",
   "metadata": {},
   "source": [
    "### SMILES Canonicalization"
   ]
  },
  {
   "cell_type": "code",
   "execution_count": 7,
   "metadata": {},
   "outputs": [
    {
     "data": {
      "text/plain": [
       "'COC(=O)c1c[nH]c2cc(OC(C)C)c(OC(C)C)cc2c1=O'"
      ]
     },
     "execution_count": 7,
     "metadata": {},
     "output_type": "execute_result"
    }
   ],
   "source": [
    "Chem.MolToSmiles(Chem.MolFromSmiles(smi))"
   ]
  },
  {
   "cell_type": "markdown",
   "metadata": {},
   "source": [
    "### Reading sets of molecules\n",
    "\n",
    "Major types of molecular file formats:\n",
    "1. `.csv` file that includes a column of `SMILES`. See `PandasTools` section.\n",
    "2. `.smi/.txt` file that includes `SMILES`. Collect the SMILES as a list. The following code is an example to read a `.smi` file that contains one SMILES per line.\n",
    "\n",
    "```python\n",
    "file_name = 'somedata.smi'\n",
    "\n",
    "with open(file_name, \"r\") as ins:\n",
    "    smiles = []\n",
    "    for line in ins:\n",
    "        smiles.append(line.split('\\n')[0])\n",
    "print('# of SMILES:', len(smiles))\n",
    "```\n",
    "3. `.sdf` file that includes `atom coordinates`. Reading molecules from `.sdf` file. [Code Example](https://www.rdkit.org/docs/GettingStartedInPython.html#reading-sets-of-molecules)"
   ]
  },
  {
   "cell_type": "markdown",
   "metadata": {},
   "source": [
    "### Draw molecules in Jupter environment"
   ]
  },
  {
   "cell_type": "markdown",
   "metadata": {},
   "source": [
    "Print molecules in grid."
   ]
  },
  {
   "cell_type": "code",
   "execution_count": 8,
   "metadata": {},
   "outputs": [],
   "source": [
    "smiles = [\n",
    "    'N#CC(OC1OC(COC2OC(CO)C(O)C(O)C2O)C(O)C(O)C1O)c1ccccc1',\n",
    "    'c1ccc2c(c1)ccc1c2ccc2c3ccccc3ccc21',\n",
    "    'C=C(C)C1Cc2c(ccc3c2OC2COc4cc(OC)c(OC)cc4C2C3=O)O1',\n",
    "    'ClC(Cl)=C(c1ccc(Cl)cc1)c1ccc(Cl)cc1'\n",
    "]\n",
    "\n",
    "mols = [Chem.MolFromSmiles(smi) for smi in smiles]"
   ]
  },
  {
   "cell_type": "code",
   "execution_count": 9,
   "metadata": {},
   "outputs": [
    {
     "data": {
      "image/png": "[encoded data removed]",
      "text/plain": [
       "<PIL.PngImagePlugin.PngImageFile image mode=RGB size=400x400 at 0x1B556894FC8>"
      ]
     },
     "execution_count": 9,
     "metadata": {},
     "output_type": "execute_result"
    }
   ],
   "source": [
    "Draw.MolsToGridImage(mols, molsPerRow=2, subImgSize=(200, 200))"
   ]
  },
  {
   "cell_type": "markdown",
   "metadata": {},
   "source": [
    "### Disable Error Message"
   ]
  },
  {
   "cell_type": "code",
   "execution_count": 10,
   "metadata": {},
   "outputs": [],
   "source": [
    "from rdkit import RDLogger \n",
    "RDLogger.DisableLog('rdApp.*')    "
   ]
  },
  {
   "cell_type": "markdown",
   "metadata": {},
   "source": [
    "## PandasTools\n",
    "\n",
    "`PandasTools` enables using RDKit molecules as columns of a `Pandas Dataframe`. "
   ]
  },
  {
   "cell_type": "code",
   "execution_count": 11,
   "metadata": {},
   "outputs": [],
   "source": [
    "import pandas as pd\n",
    "from rdkit.Chem import PandasTools"
   ]
  },
  {
   "cell_type": "code",
   "execution_count": 12,
   "metadata": {},
   "outputs": [
    {
     "data": {
      "text/html": [
       "<div>\n",
       "<style scoped>\n",
       "    .dataframe tbody tr th:only-of-type {\n",
       "        vertical-align: middle;\n",
       "    }\n",
       "\n",
       "    .dataframe tbody tr th {\n",
       "        vertical-align: top;\n",
       "    }\n",
       "\n",
       "    .dataframe thead th {\n",
       "        text-align: right;\n",
       "    }\n",
       "</style>\n",
       "<table border=\"1\" class=\"dataframe\">\n",
       "  <thead>\n",
       "    <tr style=\"text-align: right;\">\n",
       "      <th></th>\n",
       "      <th>smiles</th>\n",
       "      <th>logSolubility</th>\n",
       "    </tr>\n",
       "  </thead>\n",
       "  <tbody>\n",
       "    <tr>\n",
       "      <th>0</th>\n",
       "      <td>N#CC(OC1OC(COC2OC(CO)C(O)C(O)C2O)C(O)C(O)C1O)c...</td>\n",
       "      <td>-0.77</td>\n",
       "    </tr>\n",
       "  </tbody>\n",
       "</table>\n",
       "</div>"
      ],
      "text/plain": [
       "                                              smiles  logSolubility\n",
       "0  N#CC(OC1OC(COC2OC(CO)C(O)C(O)C2O)C(O)C(O)C1O)c...          -0.77"
      ]
     },
     "execution_count": 12,
     "metadata": {},
     "output_type": "execute_result"
    }
   ],
   "source": [
    "url = 'https://raw.githubusercontent.com/XinhaoLi74/molds/master/clean_data/ESOL.csv'\n",
    "\n",
    "esol_data = pd.read_csv(url)\n",
    "esol_data.head(1)"
   ]
  },
  {
   "cell_type": "markdown",
   "metadata": {},
   "source": [
    "Add `ROMol` to Pandas Dataframe."
   ]
  },
  {
   "cell_type": "code",
   "execution_count": 13,
   "metadata": {},
   "outputs": [
    {
     "data": {
      "text/html": [
       "<div>\n",
       "<style scoped>\n",
       "    .dataframe tbody tr th:only-of-type {\n",
       "        vertical-align: middle;\n",
       "    }\n",
       "\n",
       "    .dataframe tbody tr th {\n",
       "        vertical-align: top;\n",
       "    }\n",
       "\n",
       "    .dataframe thead th {\n",
       "        text-align: right;\n",
       "    }\n",
       "</style>\n",
       "<table border=\"1\" class=\"dataframe\">\n",
       "  <thead>\n",
       "    <tr style=\"text-align: right;\">\n",
       "      <th></th>\n",
       "      <th>smiles</th>\n",
       "      <th>logSolubility</th>\n",
       "      <th>ROMol</th>\n",
       "    </tr>\n",
       "  </thead>\n",
       "  <tbody>\n",
       "    <tr>\n",
       "      <th>0</th>\n",
       "      <td>N#CC(OC1OC(COC2OC(CO)C(O)C(O)C2O)C(O)C(O)C1O)c...</td>\n",
       "      <td>-0.77</td>\n",
       "      <td><img data-content=\"rdkit/molecule\" src=\"data:image/png;base64,iVBORw0KGgoAAAANSUhEUgAAAMgAAADICAIAAAAiOjnJAAAABmJLR0QA/wD/AP+gvaeTAAAZ4UlEQVR4nO2deVBUV/bHT3fbArJvRhEQUAiighGJETBqkklcME5U1JmIS/ITEzUd1EpRk9F0Mhkd81MrzURn0pU4ETWJPxQ1TBCDUaLgRqK44ApuqCBh35dezu+Pi88WWZrud7tfN/dTltXVPM47/fj2ffede865IkQEBoNvxOZ2gGGdMGExqMCExaACExaDCkxYDCowYTGowITFoAITFoMKTFgMKjBhMajAhMWgAhMWgwpMWAwqMGExqMCExaACExaDCkxYDCowYTGowITFoAITFoMKTFgMKjBhMajAhMWgAhMWgwpMWAwqMGExqMCExaACExaDCkxYDCowYTGowITFoAITFoMKTFgMKjBhMajAhMWggnUJKyMDMjKgsBCWLgUASEpqe597wTAVfcztAK/cuAHvvw8A8MEHkJEBAG0KY5gc6xIWR0FB2wulEoCNWGbAum6F06bB0qWQkQH79sGrr5rbm16NyAr7vMfGQloanD4Nzz1nbld6L9Y1YhH69oXWVjh71tx+9GqsUVhkoMrLM7cfvRprFNbo0QBMWGbGGudY1dXg5gZ2dlBTA32s9LFX8FjjiOXiAv7+0NgI16+b25XeizUKCx7dDc+dM7cfvRfrFJZmzJim4ODCoiJzO9J7sU5hHQ4L63ft2v8cPkzFOluR1ANrnLwDlJeXe3p6Ojk5VVVVicV8f3mSktpWJAsLoaAAbtyAK1fafkRWkBjWOmJ5eHh4e3vX1tbevHmTZ9Na7ePXuiuSSiWEhPB8LkvGOoUFAKNHjwaAc/zO3ysqYMIEUKvbViQPHIApU/i0b02glSKXywEgMTGRN4vXrmFAAALgsGGoUvFm1kphI5Z+nDoF48fDrVvw/POQlcXirt1i5cLKzc0tLS011tbevfDyy1BWBn/8I2RlwTPP8OCftWO1wkpNTbWxsdFqtV5eXtHR0UlJSb///rsBdpo3b4Y5c6CpCWQy2LsX+vXj3VXrxNz3Yv7RaDQJCQkAIBKJQkNDbWxsyCft27dvTEzMrl27amtr9bGjVqvffffdPwcHax0cUC6n7LW1YW3Campqmjt3LpHRzp07EbGqqio5OTkmJkYqlRKF2draxsTEJCcn19XVdWantrZ2ypQpANCvX79T//2vCT+BlWBVwiovL4+OjgYAV1fXrKysdj+tqKggCuvzaOptZ2cXExOTkpLS0tKie2RxcXF4eDgAuLu7Z2dnm+4DWBHWI6zCwsKgoCAA8Pf3v3LlShdH3r9/X6FQREVFiUQiojAXF5e4uLi0tLTW1tb8/HxfX18AGDJkyPXr103mv5VhcmEpFI9fHDyIBw9iQQHGxxtp9eTJk56engAQERHx8OFDPX/r1q1b69evDw0N5WacHh4e/fr1A4Dx48eXl5cb6VVvxuRrhUlJj1fWQkIeL7pduQIlJTBzJnh69tRkampqXFxcU1PTjBkzvvvuu349f3C7fft2SkrK9u3br1275uXlNXTo0EOHDtnZ2fXUDuMxplay7ojFvT54ENeuRQCUSDAqChUK/P13ve0pyDJzfHy8yuiA+FtvvQUAH330kZF2GGaNY3FlgAcOwKuvQkwMSCRw4gQkJICPD8yYAd9/j/X1nf22RqNZvnx5QkICIsrlcqVS2cfogPjkyZOB9xXG3om5lf0kVVWYnIwxMSiVIgACvBUWRkID9fX1ugfW19fHxMQAgI2Nze7du/k6f2FhIQB4eXnxZbDXIjBhcTx8iFu2NLz+OpdN5eTktGDBgvT09NbWVnrhAK1W6+rqCgAlJSU8mu2FCFVYjygqKtq0aVNERAQ3xLq5uZG/fVBQUGFhIe9nnDRpEgCkp6fzbrlXIfS1Qh8fn9WrV+fm5t65c4cEnyorKx0dHQMDA3NycoYMGcL7GakkcvU+hC4sjsGDB7///vs5OTkfffRRUVHR888/79nzwIQ+PPfccwCQx+pdjcNihMVB5uwXLlygZJ+NWLxgecUULS0tjo6OWq22trbWgFhot2i1Wmdn5/r6+rKyMg8PD97t9xIsb8SysbEJCQnRaDQXL16kYV8sFoeFhQHA+fPnadjvJViesID+3YrdDY3HIoVFe37N5u/GY5HCoj2iEGGxEcsYLG/yDgANDQ3Ozs4SiaS2tpbLPOYRlUrl5OTU0tJSXV3t5OTEu/3egEWOWPb29kFBQa2trZcvX6ZhXyqVjhgxAhHpBTWsHosUFrD5u+CxVGHRnl/7+fkBgFKpPHHihPlnCxbY38ZSK3qpjiiXLl3asmWLg4PD1atXo6Ojvb29Z86cGRsbq5smb1IscccN866BG0xVVZVIJLKzszM+a7QdmZmZZMI+evToFStWDB48mLtWgYGBa9asyc/P5/eM3aObanvw4BNZuELFUoWFiAEBAQDA759527ZtpPxwzpw5TU1N5M38/PzExMSBAwdyCgsJCZHL5deuXePx1F1B6k3+8Q8MC8MzZ5iw6DJ79mwA2LFjBy/WtFotaVADADKZTKvVtjtAo9FkZ2fLZLJndHo3EIXRSAvrgJUrEQDXrTPFuYzGgoW1bt06AFi5ciUPtpqbs1atEolEUqn0P//5T9fHqtXq7Ozs+Ph4Z2dnTmHh4eEKhaK4uJgHZzpjxw4EwNmzKZ6CPyxYWKmpqQDg6+t79OhRjUZjuKGKChw/HgE+e+21zMxM/X+vqalp3759c+fO5ZIsJBJJUVGR4Z50TX4+AmBAAC37vGKpwnrw4IFuww93d/f4+Pjs7Oynb2HdcOsWBgcjAHp5YV6eYc40NjampaXNnz/fycnJwcGhsbHRMDvdoFajvT2KRFhRQcU+r1iksC5evOjj4wMAfn5+y5YtGzp0KHdL8vPzS0xMvHn+vF6GzpzBZ55BABw5EvkYaUaOHAkAZ86cMd5Ux4wbhwB45Agt+/xhecLiwgGRkZFlZWXkzfz8fLlczqXAl4wdi35+mJiIXTRx2L8f+/VDAPzDH7CmhhffFi5cCAD//ve/ebHWAcuXIwBu3EjLPn9YmLC4cEBsbCwXDuDQarXZ2dmrZTKtjw8pS0QADAvD9evx1q0nDlWrccwYBMAlS3hsKKpQKAAg3uhWFJ3y9dcIgH/+My37/GE5wtJqCzZsIKpas2ZNN3MptRoPH8a330Y3t8cKi4t74pgHDzApiV8fjx8/DgBjxozh1yxHaV5e4ujRU8eOpWS/fZsWIwJmFpI209ICixfD999vmzAB4uLefvttfX9Ro4GsLNixA374ARIT27YyDAyEjRtpNPuvr693dnaWSqV1dXVcnzceaW1tdXJyUqlUNTU1Dg4OvNvnc28EPvVOicpKnDABAdDBAQ2uI21sxJqax9+8ggI8eJAvB3V59tlnASDP0AfMbiGLpDk5OVSs87d2JPjshtu3ITISjh0DLy84fhymTjXQjp0d6KbscZtK8M0LY8b8cehQ1dWrlOzTWn0/cgTy8p5o02Lk3gj8qZ0CfIcD2mYPBw8a3+qtUz77DAFwxQpK5rdu3QoAixcv5tPoN9+gVIpeXqh3z7puEbawZsxAAHztNdSvz7EgOHwYATAqipL5U6dOAUBYWBg/5rRalMtRJEIAlMnQmAWMJxG2sGpq8G9/s7D9RSorUSTCfv1QraZhvrGxsU+fPn369Hk62tJjVCpcsqSt392WLXx49xjhCYu/xqRmw88PAbqKzRpBXV2du7u7g4NDeHi4UqmsMTi0W1uLkycjANrbI4V+48ITFv0HN+rMnIkAuGsX74aLi4vJ5J3rj2praztr1qyUlJQeLVDeuXNn1+zZKBLhwIF49izvfqKghUWGLkvk008RAFev5tdqfn4+SWcdMmRIbm6unj3rn+bs2bMkafHnefPw7l1+neQQnrAKCnDBAnzvPXzxRXO7Yijp6QiAkybxaPLIkSMuLi4A8MILL/yu0/m3rKxMqVR21rP+aTs//fQTWWl96aWXqqqqePSwHcITFiKeP48AGBRkbj8MpbQU4+JQqeTL3vbt2/v27QsAs2bN6uyWV1RURBrTcYEkNzc3ojD1o8eIr776ioxwCxcu7HZgMxJBCkulQltbFImwutrcrhgEr88fGzZsIKORTCbTJ5/x6tWrH3/8cXBwMKcwb2/vlStXLl26FABEIpFcLu9x1lrPEaSwEDEiAgHw2DFz+2EQ7Z4/DI0LqFSq+Ph4AJBIJFt6Hg4gqUSBgYFEXu7u7lKpdPv27YY501OEKqylSxEAP//c3H4YhO7zx/796OyMr7yCyck9yvqqra0lTeft7e3T0tIM9kWr1Z4+fXrChAkAMH36dIPt9BShCuvLLxEAFywwtx8GobtwlJWFEklb3o6dHcbGYmpqt2PY/fv3R40aBQADBw787bffjPfo2LFjABAREWG8KT0RqrBycxEAR4wwtx98UFqKW7fi+PEoFrcpzMnpv4mJP/74Y4cPbhcuXPD29gaA4cOH37lzhxcX6urqxGKxjY1Nh2ekgVCF1dSEUilKJNjQYG5X+OP+fVQoMCoKRaLQoCAAcHV1bRcaoBcOIHvundezGsBohCosxAPz5i0ePvy306fN7Qj/aG7eXLdune52dgMGDFixYsVf/vIXkh64YMEC3sMB8+bNA4Buqyb5QrjCWrRoEQD861//MrcjFLl8+bJcLudCA+7u7vTCAZ999hkAvPfee7xb7hDhCispKQkAlixZYm5HTMG5c+feeOMNABg1ahSlUxw+fBgAoqjl87RDuMLKzs4GgPDwcHM7YiLu3r0LAB4eHpTsV1ZWikQie3t7NZ18nnYINzV51KhRYrH40qVLra2t5vbFFPj6+np6epaXl9+7d4+GfVdXV19f34aGhhs3btCw3w7hCsvBwYFqo1EBQrtbM0m5MU2bceEKC3pfI1Daf3hT9q8XdKtIiUQiFos/+eSThoaG2NhY3dZnVolpRiwTfVFNMI8zjE2bNonFYltbW+KnWCyeNGmSUqksLy83t2u0ILOfQYMGUbL/8OFDAHBxceml2Q1qtXrFihUAIBKJ/vrXv6alpcXFxdnb2xOFSSSSqKgopVJZbaFJNZ2j1Wo3TpyYM3GiurSU0inIqH/z5k1K9jkEJ6z6+vrp06cDgI2NzXfffce939DQkJKSEhMTQ1LeyAFkH/K6urrOrO3Zs8fCBjlS852RQcn8tGnTAGDPnj2U7HMIS1glJSVjxowBADc3t+PHj3d4TGVlZYfp3snJyQ1PLSySWYUlDXKUG42uXbsWAD788ENK9jkEJKzLly+Ttv0BAQH6NCQuLi5OSkqKjIzUTfdetGjRoUOHSI9urVabnJw8ZcoUrj+Hra3t7Nmx//d/GuEubVNuNLpv3z4AeJF+PYGxwjp58uT27dvHjRu3adMmY9pv5uTkkO1Mx44dW9rDGQaX7k0U5ujoOHDgQJI1QBSmO8iNGTOZZEbFxGBysvCSJyg3GpXL5S4uLlKpdPDgwTKZLDs7m9KJjBLW3r177ezsuFuSSCSKjo7+4osvHvawBUBKSgp5+nvjjTeMaeB5/fr1Tz75hLTpJgwaNCghIeH06dPkOai4uPjrry+PG9dWUw6ALi64eDGafkuATqHWaFSj0SQkJJA/k5ubG3eJhg8f/umnn964cYPf0xkuLIVCIRaLAWDRokX79++Pi4vjOjaJxeKoqCiFQqHP2KNQKHpULKAPFy5c+PDDD8kOAwR/f//167/ikpGKitoyo4i8hJVbT6HRaFNT09y5cwGgb9++u3bt0mg0WVlZ77zzju6m17/Mn48bN/JVaWiIsHTDAXK5nHufNA+Oi4vTbU/9yiuvJCcnd1gJrlKpSOmIRCL54osvDP4MXUAKCojCXnxxCwD6+2NiIl692nbAtWu4YQOPvTD4gO9Go+Xl5dHR0QDg6ur6yy+/6P6I9KyXyWQeHh4tpDMAAIaHo0KBxvWs77Gw6uvrX3/9dfK0/+2333Lvp6amZmZmkpXz6upqMqfRnTW3Cw3U1dVNmTIFAOzt7X/44QdjPkOHvPnmm19++SXpfqvRaI4fP/7BB+X9+z9uHDlqFG7YgLdv835mo8nLw/R0fNS310gKCwtJ7qi/v/+VzttJtDQ34/79OG8e2tu3XSCJBF96CZOTDTtvz4SlGw44pnP/0Gq15IGuXZFkRUVFh6EBpVJJigUGDBjw66+/GuZ6F+Tm5upGUxUKBVGYWo0//YRvvYWurm1XTyTCxMS2shqh7EzDX1niyZMnPT09ASAiIkLfiW9jI6alYVxcW0vpOXMMa0zaA2EVFBSQjuoBAQFXuXsJIiI2NTXpZkICgLe396pVq3Jzc8kB9+/f131wI/8PGzbsNp0Ro7a2dseOHVOnTuWGTBsbm2XLNn7/PdbXIz5qfhsXh2Fh+PnnbddNKMLSLUvcvdvgph3k0QoAZsyY8XSEr3uqq3H7dszObl8mqVBgfHzbv87RV1gnTpzQJxzQrkgSAHx9fXUfa2/durV+/XrygU2we5ZuoGHs2H0AaGv7RKBBq227bvHxwhMWKSADwMGDUSbrkcK4R6v4+Hhjd94zqDGpXsLSDQfoo32tVnvq1KmEhAQvLy9OYSEhIT///DM5YOLEiQCQbnCn2p5TUlKydWtzVNTjQIOzMy5ciI2Nj69PZKTJ3OkS3bLEpCQcMODxxHDkSFy3DrvcbEytVi9btuzpRyt+/EH+boWc9g0IB7Tbiu3cuXPk/VWrVgHA3//+9x5Z44V797gSLAwONv35e45ajUeO4JIl6O5O5KWWSCa//PLmzZvv3bvX7ti6urqYmBhy69+9e7dZ/CV0JSyVSvXOO++QKfA///lPY06jUqmO6ARmdu7cCQCzZs0yxqaR3LghsPBVt7S2Yno6xsUdftRShosXlpSUIGJxcXF4eDgAuLu70wup60mnwqqrq5s6dSqlcADJNvb39+fXbC+hqakpNTU1NjaW6+tHHn7JbSEoKMhEG3N2SafCyszMlEgk/fv3557seESj0Tg4OIhEogpL2CFNsJCIdGxsLEkl6t+/f1hYmG5bNjPSqbAiIyMBYP/+/ZROTOxz03mGMVRWVpJ+Mps3bza3L210WkxBwrXFxcUAgIgFBQX19fWdHWwAva1Qgiqurq5z5swBgPz8fHP70kanwtKt6JgxY0ZQUNDRo0d5PLEpK0Z6A0L7onYqLN1SpJCQEODbaaFdCEsnLCysT58+ly9fbm5uNrcvAF0IS7cQmUZZ0vDhw21tbQsKCurq6ng022uxs7MLDg5Wq9WXLl0yty8AXQhLtxCZRiGlVCodMWKEVqs9f/48j2Z7M4K6CXRVCc05OnToUGdn5/v375eWlvJ4bkFdCCtAUNPWroTFOSoSiUiWC79OC+pCWAGC+qLqNWIBHacFdSGsADItvnjxokqlMrcv3QlLJBJduHBBrVbTGF1CQ0OlUumVK1caGxt5NNtrcXJyGjp0aEtLyxVuI2fz0ZWwXFxc/P39Gxsbr1+/ztfokpWVNWfOHPKVsrW1DQ4O1mg0wgnrWTrCuQl008aIczQ4ONje3v727duVlZUGn2znzp2TJ0/es2fPtm3bAKC6urqmpob07DPYJkMX4UxbuxEW56hEIgkNDUVEg6MDSUlJCxcubG1tlclk8fHxd+/ejYqKKioqam5ujoiIMMwmox3CGbG6SfTLyMgAgAkTJiDi8uXLAWBjz8uSni7z0u2Rf5falnm9EBM3Gu2CboRFAldOTk6kgmrr1q3Xr1/v0Ql0y7zInjCHDh1ydHQEgJdfftkCunRYGqRcqotKL9PQfWryoEGDAMCwEuwHDx6QmylX5qW7ZZ7Jtt/oVcycORMAdlHYOLhHdN+DlNy2z5w509Ob7KVLl1544YW8vLyQkJBTp06Fh4d//PHHS5Ys0Wg0crn8m2++4WqzGDxCMgbMP3/vVnobNmwIDAy0sbGJjY1NS0vTcyuOzMxMsidMVFRUWVlZc3Pzn/70JwDo27fvjh07jP4+MDrmwYMHwcHBAQEBZ86cMa8nepV/rV69mhOiu7t7fHz80aNHu5geVlVVkQ2M58+f39LSUlFRMX78eABwdHTMoNarjpGXl0fmLcOGDXvw4IF5ndG3YPXOnTvtthwmCsvOzu6wU2p6evratWu1Wu3NmzefffZZABg0aJDJtp7qhXC3iMjIyDKe+j4YQ4+bgpB9hYhWCD4+PqTW+WmFnT59un///gAQGhr6dBEcgy+2bdtGJqyxsbFNhu4UzC+G98ci1fRDhgzhFObn5yeTyc4+qgTft28fqU969dVXO2xjxOABrfbExo3k+q9Zs8YEfbb1xNhWkVqtNicnZ8WKFQMGDOAUFhoaOm3aNFI//e6775o9WGe1tLTgm2+iWPy/48Zt27bN3N48AW/NbblqenLv8/Pz4613AKNDKivbenc7OKAJu2DoiQj5XgBWqVSZmZkikcjHx2fkyJH8Gme0cfs2TJsGV6+Clxf8+CM895y5HWoP/8JiUOfXX2H6dCgthZEjIT0dfHzM7VAHMGFZGq2tEBQEd+/Ca6/Bnj3g6GhuhzqGCcsCOXUKvv0WFAroI9zN25iwBExSErz/ftuLoCAAgMBA2LgRlErz+qUPTFgCJikJuOz1kJA2kRUWQkEBTJliRr/0QbhjKQMA2ganpKTH7xQUmMuXHiHorXsZj5k2DZYuhYwMOHBA+MMVsFshgxJsxGJQgQmLQQUmLAYVmLAYVGDCYlCBCYtBBSYsBhWYsBhUYMJiUIEJi0EFJiwGFZiwGFRgwmJQgQmLQQUmLAYVmLAYVGDCYlCBCYtBBSYsBhWYsBhUYMJiUIEJi0EFJiwGFZiwGFRgwmJQgQmLQQUmLAYVmLAYVGDCYlCBCYtBBSYsBhWYsBhUYMJiUIEJi0GF/wcCyEmtPZHhDAAAAABJRU5ErkJggg==\" alt=\"Mol\"/></td>\n",
       "    </tr>\n",
       "  </tbody>\n",
       "</table>\n",
       "</div>"
      ],
      "text/plain": [
       "                                              smiles  logSolubility  \\\n",
       "0  N#CC(OC1OC(COC2OC(CO)C(O)C(O)C2O)C(O)C(O)C1O)c...          -0.77   \n",
       "\n",
       "                                               ROMol  \n",
       "0  <img data-content=\"rdkit/molecule\" src=\"data:i...  "
      ]
     },
     "execution_count": 13,
     "metadata": {},
     "output_type": "execute_result"
    }
   ],
   "source": [
    "PandasTools.AddMoleculeColumnToFrame(esol_data, smilesCol='smiles')\n",
    "esol_data.head(1)"
   ]
  },
  {
   "cell_type": "markdown",
   "metadata": {},
   "source": [
    "`ROMol` column stores `rdchem.Mol` object."
   ]
  },
  {
   "cell_type": "code",
   "execution_count": 14,
   "metadata": {},
   "outputs": [
    {
     "name": "stdout",
     "output_type": "stream",
     "text": [
      "<class 'rdkit.Chem.rdchem.Mol'>\n"
     ]
    }
   ],
   "source": [
    "print(type(esol_data.ROMol[0]))"
   ]
  },
  {
   "cell_type": "markdown",
   "metadata": {},
   "source": [
    "Draw the structures in grid."
   ]
  },
  {
   "cell_type": "code",
   "execution_count": 15,
   "metadata": {},
   "outputs": [
    {
     "data": {
      "image/png": "[encoded data removed]",
      "text/plain": [
       "<PIL.PngImagePlugin.PngImageFile image mode=RGB size=800x400 at 0x1B557738508>"
      ]
     },
     "execution_count": 15,
     "metadata": {},
     "output_type": "execute_result"
    }
   ],
   "source": [
    "PandasTools.FrameToGridImage(esol_data.head(8), legendsCol=\"logSolubility\", molsPerRow=4)"
   ]
  },
  {
   "cell_type": "markdown",
   "metadata": {},
   "source": [
    "Adding new columns of properites use `Pandas` [map](https://pandas.pydata.org/pandas-docs/stable/reference/api/pandas.Series.map.html) method."
   ]
  },
  {
   "cell_type": "code",
   "execution_count": 16,
   "metadata": {},
   "outputs": [
    {
     "data": {
      "text/html": [
       "<div>\n",
       "<style scoped>\n",
       "    .dataframe tbody tr th:only-of-type {\n",
       "        vertical-align: middle;\n",
       "    }\n",
       "\n",
       "    .dataframe tbody tr th {\n",
       "        vertical-align: top;\n",
       "    }\n",
       "\n",
       "    .dataframe thead th {\n",
       "        text-align: right;\n",
       "    }\n",
       "</style>\n",
       "<table border=\"1\" class=\"dataframe\">\n",
       "  <thead>\n",
       "    <tr style=\"text-align: right;\">\n",
       "      <th></th>\n",
       "      <th>smiles</th>\n",
       "      <th>logSolubility</th>\n",
       "      <th>ROMol</th>\n",
       "      <th>n_Atoms</th>\n",
       "    </tr>\n",
       "  </thead>\n",
       "  <tbody>\n",
       "    <tr>\n",
       "      <th>0</th>\n",
       "      <td>N#CC(OC1OC(COC2OC(CO)C(O)C(O)C2O)C(O)C(O)C1O)c...</td>\n",
       "      <td>-0.77</td>\n",
       "      <td><img data-content=\"rdkit/molecule\" src=\"data:image/png;base64,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\" alt=\"Mol\"/></td>\n",
       "      <td>32</td>\n",
       "    </tr>\n",
       "  </tbody>\n",
       "</table>\n",
       "</div>"
      ],
      "text/plain": [
       "                                              smiles  logSolubility  \\\n",
       "0  N#CC(OC1OC(COC2OC(CO)C(O)C(O)C2O)C(O)C(O)C1O)c...          -0.77   \n",
       "\n",
       "                                               ROMol  n_Atoms  \n",
       "0  <img data-content=\"rdkit/molecule\" src=\"data:i...       32  "
      ]
     },
     "execution_count": 16,
     "metadata": {},
     "output_type": "execute_result"
    }
   ],
   "source": [
    "esol_data[\"n_Atoms\"] = esol_data['ROMol'].map(lambda x: x.GetNumAtoms())\n",
    "esol_data.head(1)"
   ]
  },
  {
   "cell_type": "markdown",
   "metadata": {},
   "source": [
    "Before saving the dataframe as csv file, it is recommanded to drop the `ROMol` column."
   ]
  },
  {
   "cell_type": "code",
   "execution_count": 17,
   "metadata": {},
   "outputs": [
    {
     "data": {
      "text/html": [
       "<div>\n",
       "<style scoped>\n",
       "    .dataframe tbody tr th:only-of-type {\n",
       "        vertical-align: middle;\n",
       "    }\n",
       "\n",
       "    .dataframe tbody tr th {\n",
       "        vertical-align: top;\n",
       "    }\n",
       "\n",
       "    .dataframe thead th {\n",
       "        text-align: right;\n",
       "    }\n",
       "</style>\n",
       "<table border=\"1\" class=\"dataframe\">\n",
       "  <thead>\n",
       "    <tr style=\"text-align: right;\">\n",
       "      <th></th>\n",
       "      <th>smiles</th>\n",
       "      <th>logSolubility</th>\n",
       "      <th>n_Atoms</th>\n",
       "    </tr>\n",
       "  </thead>\n",
       "  <tbody>\n",
       "    <tr>\n",
       "      <th>0</th>\n",
       "      <td>N#CC(OC1OC(COC2OC(CO)C(O)C(O)C2O)C(O)C(O)C1O)c...</td>\n",
       "      <td>-0.77</td>\n",
       "      <td>32</td>\n",
       "    </tr>\n",
       "  </tbody>\n",
       "</table>\n",
       "</div>"
      ],
      "text/plain": [
       "                                              smiles  logSolubility  n_Atoms\n",
       "0  N#CC(OC1OC(COC2OC(CO)C(O)C(O)C2O)C(O)C(O)C1O)c...          -0.77       32"
      ]
     },
     "execution_count": 17,
     "metadata": {},
     "output_type": "execute_result"
    }
   ],
   "source": [
    "esol_data = esol_data.drop(['ROMol'], axis=1)\n",
    "esol_data.head(1)"
   ]
  },
  {
   "cell_type": "markdown",
   "metadata": {},
   "source": [
    "## Descriptors/Fingerprints\n",
    "\n",
    "The RDKit has a variety of built-in functionality for generating molecular fingerprints/descriptors. A detialed description can be found [here](https://www.rdkit.org/docs/RDKit_Book.html#additional-information-about-the-fingerprints). "
   ]
  },
  {
   "cell_type": "code",
   "execution_count": 18,
   "metadata": {},
   "outputs": [
    {
     "data": {
      "text/html": [
       "<div>\n",
       "<style scoped>\n",
       "    .dataframe tbody tr th:only-of-type {\n",
       "        vertical-align: middle;\n",
       "    }\n",
       "\n",
       "    .dataframe tbody tr th {\n",
       "        vertical-align: top;\n",
       "    }\n",
       "\n",
       "    .dataframe thead th {\n",
       "        text-align: right;\n",
       "    }\n",
       "</style>\n",
       "<table border=\"1\" class=\"dataframe\">\n",
       "  <thead>\n",
       "    <tr style=\"text-align: right;\">\n",
       "      <th></th>\n",
       "      <th>smiles</th>\n",
       "      <th>logSolubility</th>\n",
       "      <th>ROMol</th>\n",
       "    </tr>\n",
       "  </thead>\n",
       "  <tbody>\n",
       "    <tr>\n",
       "      <th>0</th>\n",
       "      <td>N#CC(OC1OC(COC2OC(CO)C(O)C(O)C2O)C(O)C(O)C1O)c...</td>\n",
       "      <td>-0.77</td>\n",
       "      <td><img data-content=\"rdkit/molecule\" src=\"data:image/png;base64,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\" alt=\"Mol\"/></td>\n",
       "    </tr>\n",
       "  </tbody>\n",
       "</table>\n",
       "</div>"
      ],
      "text/plain": [
       "                                              smiles  logSolubility  \\\n",
       "0  N#CC(OC1OC(COC2OC(CO)C(O)C(O)C2O)C(O)C(O)C1O)c...          -0.77   \n",
       "\n",
       "                                               ROMol  \n",
       "0  <img data-content=\"rdkit/molecule\" src=\"data:i...  "
      ]
     },
     "execution_count": 18,
     "metadata": {},
     "output_type": "execute_result"
    }
   ],
   "source": [
    "url = 'https://raw.githubusercontent.com/XinhaoLi74/molds/master/clean_data/ESOL.csv'\n",
    "\n",
    "esol_data = pd.read_csv(url)\n",
    "PandasTools.AddMoleculeColumnToFrame(esol_data, smilesCol='smiles')\n",
    "esol_data.head(1)"
   ]
  },
  {
   "cell_type": "markdown",
   "metadata": {},
   "source": [
    "### Morgan Fingerprint (ECFPx)\n",
    "\n",
    "`AllChem.GetMorganFingerprintAsBitVect` Parameters:\n",
    "1. `radius`: no default value, usually set 2 for similarity search and 3 for machine learning.\n",
    "2. `nBits`: number of bits, default is 2048. 1024 is also widely used.\n",
    "3. [other parameterss](https://www.rdkit.org/docs/source/rdkit.Chem.rdMolDescriptors.html) are ususlly left to default\n",
    "\n",
    "More examples can be found in this [notebook](https://github.com/XinhaoLi74/Hierarchical-QSAR-Modeling/blob/master/notebooks/descriptors.ipynb) from my previous work."
   ]
  },
  {
   "cell_type": "code",
   "execution_count": 19,
   "metadata": {},
   "outputs": [],
   "source": [
    "radius=3\n",
    "nBits=1024\n",
    "\n",
    "ECFP6 = [AllChem.GetMorganFingerprintAsBitVect(x,radius=radius, nBits=nBits) for x in esol_data['ROMol']]"
   ]
  },
  {
   "cell_type": "code",
   "execution_count": 20,
   "metadata": {},
   "outputs": [
    {
     "data": {
      "text/plain": [
       "<rdkit.DataStructs.cDataStructs.ExplicitBitVect at 0x1b558794580>"
      ]
     },
     "execution_count": 20,
     "metadata": {},
     "output_type": "execute_result"
    }
   ],
   "source": [
    "ECFP6[0]"
   ]
  },
  {
   "cell_type": "markdown",
   "metadata": {},
   "source": [
    "ECFP6 fingerprint for each molecule has 1024 bits."
   ]
  },
  {
   "cell_type": "code",
   "execution_count": 21,
   "metadata": {},
   "outputs": [
    {
     "data": {
      "text/plain": [
       "1024"
      ]
     },
     "execution_count": 21,
     "metadata": {},
     "output_type": "execute_result"
    }
   ],
   "source": [
    "len(ECFP6[0])"
   ]
  },
  {
   "cell_type": "markdown",
   "metadata": {},
   "source": [
    "Save as a `.csv` file for futher use (e.g., machine learning). I usually save (1) SMILES as index and (2) each bit as a column to the csv file. "
   ]
  },
  {
   "cell_type": "code",
   "execution_count": 22,
   "metadata": {},
   "outputs": [
    {
     "data": {
      "text/html": [
       "<div>\n",
       "<style scoped>\n",
       "    .dataframe tbody tr th:only-of-type {\n",
       "        vertical-align: middle;\n",
       "    }\n",
       "\n",
       "    .dataframe tbody tr th {\n",
       "        vertical-align: top;\n",
       "    }\n",
       "\n",
       "    .dataframe thead th {\n",
       "        text-align: right;\n",
       "    }\n",
       "</style>\n",
       "<table border=\"1\" class=\"dataframe\">\n",
       "  <thead>\n",
       "    <tr style=\"text-align: right;\">\n",
       "      <th></th>\n",
       "      <th>Bit_0</th>\n",
       "      <th>Bit_1</th>\n",
       "      <th>Bit_2</th>\n",
       "      <th>Bit_3</th>\n",
       "      <th>Bit_4</th>\n",
       "      <th>Bit_5</th>\n",
       "      <th>Bit_6</th>\n",
       "      <th>Bit_7</th>\n",
       "      <th>Bit_8</th>\n",
       "      <th>Bit_9</th>\n",
       "      <th>...</th>\n",
       "      <th>Bit_1014</th>\n",
       "      <th>Bit_1015</th>\n",
       "      <th>Bit_1016</th>\n",
       "      <th>Bit_1017</th>\n",
       "      <th>Bit_1018</th>\n",
       "      <th>Bit_1019</th>\n",
       "      <th>Bit_1020</th>\n",
       "      <th>Bit_1021</th>\n",
       "      <th>Bit_1022</th>\n",
       "      <th>Bit_1023</th>\n",
       "    </tr>\n",
       "    <tr>\n",
       "      <th>smiles</th>\n",
       "      <th></th>\n",
       "      <th></th>\n",
       "      <th></th>\n",
       "      <th></th>\n",
       "      <th></th>\n",
       "      <th></th>\n",
       "      <th></th>\n",
       "      <th></th>\n",
       "      <th></th>\n",
       "      <th></th>\n",
       "      <th></th>\n",
       "      <th></th>\n",
       "      <th></th>\n",
       "      <th></th>\n",
       "      <th></th>\n",
       "      <th></th>\n",
       "      <th></th>\n",
       "      <th></th>\n",
       "      <th></th>\n",
       "      <th></th>\n",
       "      <th></th>\n",
       "    </tr>\n",
       "  </thead>\n",
       "  <tbody>\n",
       "    <tr>\n",
       "      <th>N#CC(OC1OC(COC2OC(CO)C(O)C(O)C2O)C(O)C(O)C1O)c1ccccc1</th>\n",
       "      <td>0</td>\n",
       "      <td>1</td>\n",
       "      <td>0</td>\n",
       "      <td>0</td>\n",
       "      <td>1</td>\n",
       "      <td>0</td>\n",
       "      <td>0</td>\n",
       "      <td>0</td>\n",
       "      <td>0</td>\n",
       "      <td>0</td>\n",
       "      <td>...</td>\n",
       "      <td>0</td>\n",
       "      <td>0</td>\n",
       "      <td>0</td>\n",
       "      <td>0</td>\n",
       "      <td>0</td>\n",
       "      <td>1</td>\n",
       "      <td>0</td>\n",
       "      <td>0</td>\n",
       "      <td>0</td>\n",
       "      <td>0</td>\n",
       "    </tr>\n",
       "  </tbody>\n",
       "</table>\n",
       "<p>1 rows × 1024 columns</p>\n",
       "</div>"
      ],
      "text/plain": [
       "                                                    Bit_0  Bit_1  Bit_2  \\\n",
       "smiles                                                                    \n",
       "N#CC(OC1OC(COC2OC(CO)C(O)C(O)C2O)C(O)C(O)C1O)c1...      0      1      0   \n",
       "\n",
       "                                                    Bit_3  Bit_4  Bit_5  \\\n",
       "smiles                                                                    \n",
       "N#CC(OC1OC(COC2OC(CO)C(O)C(O)C2O)C(O)C(O)C1O)c1...      0      1      0   \n",
       "\n",
       "                                                    Bit_6  Bit_7  Bit_8  \\\n",
       "smiles                                                                    \n",
       "N#CC(OC1OC(COC2OC(CO)C(O)C(O)C2O)C(O)C(O)C1O)c1...      0      0      0   \n",
       "\n",
       "                                                    Bit_9  ...  Bit_1014  \\\n",
       "smiles                                                     ...             \n",
       "N#CC(OC1OC(COC2OC(CO)C(O)C(O)C2O)C(O)C(O)C1O)c1...      0  ...         0   \n",
       "\n",
       "                                                    Bit_1015  Bit_1016  \\\n",
       "smiles                                                                   \n",
       "N#CC(OC1OC(COC2OC(CO)C(O)C(O)C2O)C(O)C(O)C1O)c1...         0         0   \n",
       "\n",
       "                                                    Bit_1017  Bit_1018  \\\n",
       "smiles                                                                   \n",
       "N#CC(OC1OC(COC2OC(CO)C(O)C(O)C2O)C(O)C(O)C1O)c1...         0         0   \n",
       "\n",
       "                                                    Bit_1019  Bit_1020  \\\n",
       "smiles                                                                   \n",
       "N#CC(OC1OC(COC2OC(CO)C(O)C(O)C2O)C(O)C(O)C1O)c1...         1         0   \n",
       "\n",
       "                                                    Bit_1021  Bit_1022  \\\n",
       "smiles                                                                   \n",
       "N#CC(OC1OC(COC2OC(CO)C(O)C(O)C2O)C(O)C(O)C1O)c1...         0         0   \n",
       "\n",
       "                                                    Bit_1023  \n",
       "smiles                                                        \n",
       "N#CC(OC1OC(COC2OC(CO)C(O)C(O)C2O)C(O)C(O)C1O)c1...         0  \n",
       "\n",
       "[1 rows x 1024 columns]"
      ]
     },
     "execution_count": 22,
     "metadata": {},
     "output_type": "execute_result"
    }
   ],
   "source": [
    "#collapse_output\n",
    "ecfp6_name = [f'Bit_{i}' for i in range(nBits)]\n",
    "ecfp6_bits = [list(l) for l in ECFP6]\n",
    "df_morgan = pd.DataFrame(ecfp6_bits, index = esol_data.smiles, columns=ecfp6_name)\n",
    "df_morgan.head(1)"
   ]
  },
  {
   "cell_type": "markdown",
   "metadata": {},
   "source": [
    "## Similarity Search\n",
    "\n",
    "Compute the similarity of a reference molecule and a list of molecules. Here is an example of using ECFP4 fingerprint to compute the `Tanimoto Similarity` (the default metric of [DataStructs.FingerprintSimilarity](https://www.rdkit.org/docs/source/rdkit.DataStructs.html).\n"
   ]
  },
  {
   "cell_type": "markdown",
   "metadata": {},
   "source": [
    "1. compute fingerprints"
   ]
  },
  {
   "cell_type": "code",
   "execution_count": 23,
   "metadata": {},
   "outputs": [],
   "source": [
    "ref_smiles = 'COC(=O)c1c[nH]c2cc(OC(C)C)c(OC(C)C)cc2c1=O'\n",
    "ref_mol = Chem.MolFromSmiles(ref_smiles)\n",
    "ref_ECFP4_fps = AllChem.GetMorganFingerprintAsBitVect(ref_mol,2)"
   ]
  },
  {
   "cell_type": "code",
   "execution_count": 24,
   "metadata": {},
   "outputs": [
    {
     "data": {
      "image/png": "[encoded data removed]",
      "text/plain": [
       "<rdkit.Chem.rdchem.Mol at 0x1b5588371c0>"
      ]
     },
     "execution_count": 24,
     "metadata": {},
     "output_type": "execute_result"
    }
   ],
   "source": [
    "ref_mol"
   ]
  },
  {
   "cell_type": "code",
   "execution_count": 25,
   "metadata": {},
   "outputs": [],
   "source": [
    "bulk_ECFP4_fps = [AllChem.GetMorganFingerprintAsBitVect(x,2) for x in esol_data['ROMol']]"
   ]
  },
  {
   "cell_type": "code",
   "execution_count": 26,
   "metadata": {},
   "outputs": [],
   "source": [
    "from rdkit import DataStructs\n",
    "\n",
    "similarity_efcp4 = [DataStructs.FingerprintSimilarity(ref_ECFP4_fps,x) for x in bulk_ECFP4_fps]"
   ]
  },
  {
   "cell_type": "markdown",
   "metadata": {},
   "source": [
    "We can also add the `similarity_efcp4` to the dataframe and visualize the structure and similarity."
   ]
  },
  {
   "cell_type": "code",
   "execution_count": 27,
   "metadata": {},
   "outputs": [
    {
     "data": {
      "image/png": "[encoded data removed]",
      "text/plain": [
       "<PIL.PngImagePlugin.PngImageFile image mode=RGB size=800x400 at 0x1B558793648>"
      ]
     },
     "execution_count": 27,
     "metadata": {},
     "output_type": "execute_result"
    }
   ],
   "source": [
    "esol_data['Tanimoto_Similarity (ECFP4)'] = similarity_efcp4\n",
    "PandasTools.FrameToGridImage(esol_data.head(8), legendsCol=\"Tanimoto_Similarity (ECFP4)\", molsPerRow=4)"
   ]
  },
  {
   "cell_type": "markdown",
   "metadata": {},
   "source": [
    "Sort the result from highest to lowest."
   ]
  },
  {
   "cell_type": "code",
   "execution_count": 28,
   "metadata": {},
   "outputs": [
    {
     "data": {
      "image/png": "[encoded data removed]",
      "text/plain": [
       "<PIL.PngImagePlugin.PngImageFile image mode=RGB size=800x400 at 0x1B5587AE188>"
      ]
     },
     "execution_count": 28,
     "metadata": {},
     "output_type": "execute_result"
    }
   ],
   "source": [
    "esol_data = esol_data.sort_values(['Tanimoto_Similarity (ECFP4)'], ascending=False)\n",
    "PandasTools.FrameToGridImage(esol_data.head(8), legendsCol=\"Tanimoto_Similarity (ECFP4)\", molsPerRow=4)"
   ]
  },
  {
   "cell_type": "code",
   "execution_count": null,
   "metadata": {},
   "outputs": [],
   "source": []
  },
  {
   "cell_type": "markdown",
   "metadata": {},
   "source": [
    "## More Reading\n",
    "\n",
    "1. [Offical documentation](https://www.rdkit.org/docs/).\n",
    "2. [Getting Started with the RDKit in Python](https://www.rdkit.org/docs/GettingStartedInPython.html)\n",
    "3. [The RDKit Book](https://www.rdkit.org/docs/RDKit_Book.html)\n",
    "4. [RDKit Cookbook](https://www.rdkit.org/docs/Cookbook.html)\n",
    "> This document provides example recipes of how to carry out particular tasks using the RDKit functionality from Python. The contents have been contributed by the RDKit community, tested with the latest RDKit release, and then compiled into this document."
   ]
  }
 ],
 "metadata": {
  "kernelspec": {
   "display_name": "Python 3",
   "language": "python",
   "name": "python3"
  },
  "language_info": {
   "codemirror_mode": {
    "name": "ipython",
    "version": 3
   },
   "file_extension": ".py",
   "mimetype": "text/x-python",
   "name": "python",
   "nbconvert_exporter": "python",
   "pygments_lexer": "ipython3",
   "version": "3.7.7"
  }
 },
 "nbformat": 4,
 "nbformat_minor": 4
}
