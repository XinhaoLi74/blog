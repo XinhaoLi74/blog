{
 "cells": [
  {
   "cell_type": "markdown",
   "metadata": {},
   "source": [
    "# Molecular Standardization\n",
    "> \n",
    "\n",
    "- toc: true \n",
    "- badges: true\n",
    "- comments: true\n",
    "- categories: [rdkit]  \n",
    "- hide: true \n",
    "- search_exclude: true \n",
    "- image: images/chart-preview.png "
   ]
  },
  {
   "cell_type": "markdown",
   "metadata": {},
   "source": [
    "## Backgroud"
   ]
  },
  {
   "cell_type": "markdown",
   "metadata": {},
   "source": [
    "A reading list on this topic:\n",
    "* [PubChem chemical structure standardization](https://jcheminf.biomedcentral.com/articles/10.1186/s13321-018-0293-8)\n",
    "* [An open source chemical structure curation pipeline using RDKit](https://jcheminf.biomedcentral.com/articles/10.1186/s13321-020-00456-1)"
   ]
  },
  {
   "cell_type": "code",
   "execution_count": null,
   "metadata": {},
   "outputs": [],
   "source": []
  },
  {
   "cell_type": "markdown",
   "metadata": {},
   "source": [
    "## MolVS"
   ]
  },
  {
   "cell_type": "markdown",
   "metadata": {},
   "source": [
    "## RDKit"
   ]
  },
  {
   "cell_type": "markdown",
   "metadata": {},
   "source": [
    "## ChEMBL Structure Pipline"
   ]
  }
 ],
 "metadata": {
  "kernelspec": {
   "display_name": "Python 3",
   "language": "python",
   "name": "python3"
  },
  "language_info": {
   "codemirror_mode": {
    "name": "ipython",
    "version": 3
   },
   "file_extension": ".py",
   "mimetype": "text/x-python",
   "name": "python",
   "nbconvert_exporter": "python",
   "pygments_lexer": "ipython3",
   "version": "3.6.12"
  }
 },
 "nbformat": 4,
 "nbformat_minor": 4
}
