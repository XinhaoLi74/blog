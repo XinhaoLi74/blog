{
 "cells": [
  {
   "cell_type": "markdown",
   "metadata": {},
   "source": [
    "# Reviews and Prospectives\n",
    "> A collection of reviews and prospectives of ML in drug and materical discovery (Last Updated on 31 Jan 2021)\n",
    "\n",
    "- toc: true \n",
    "- badges: false\n",
    "- comments: true\n",
    "- categories: [articles]  \n",
    "- hide: false \n",
    "- search_exclude: false \n",
    "- image: images/review-logo.png "
   ]
  },
  {
   "cell_type": "markdown",
   "metadata": {},
   "source": [
    "## Reviews"
   ]
  },
  {
   "cell_type": "markdown",
   "metadata": {},
   "source": [
    "- QSAR without borders. ([Chemical Society Reviews](https://pubs.rsc.org/en/content/articlelanding/2020/cs/d0cs00098a#!divAbstract) 2020)\n",
    " \n",
    "- Deep Learning in Chemistry ([JCIM](https://pubs.acs.org/doi/10.1021/acs.jcim.9b00266) 2019)\n",
    "\n",
    "- A compact review of molecular property prediction with graph neural networks ([Drug Discovery Today](https://www.sciencedirect.com/science/article/pii/S1740674920300305) 2020)\n",
    "\n",
    "- Defining and Exploring Chemical Spaces ([Trends in Chemistry](https://www.cell.com/trends/chemistry/fulltext/S2589-5974(20)30288-4?_returnURL=https%3A%2F%2Flinkinghub.elsevier.com%2Fretrieve%2Fpii%2FS2589597420302884%3Fshowall%3Dtrue) 2020)\n",
    "\n",
    "- Recent applications of deep learning and machine intelligence on in silico drug discovery: methods, tools and databases ([Briefings in Bioinformatics](https://academic.oup.com/bib/article/20/5/1878/5062947) 2019)\n",
    "\n",
    "- Drug discovery with explainable artificial intelligence ([Nature Machine Intelligence](https://www.nature.com/articles/s42256-020-00236-4) 2020)\n",
    "\n",
    "- Interpretable Deep Learning in Drug Discovery ([Preprint](https://arxiv.org/abs/1903.02788) 2019)\n",
    "\n",
    "- A review of optical chemical structure recognition tools ([J Cheminformatics](https://jcheminf.biomedcentral.com/articles/10.1186/s13321-020-00465-0) 2020)\n",
    "\n",
    "- Molecular representations in AI-driven drug discovery: a review and practical guide ([J Cheminformatics](https://jcheminf.biomedcentral.com/articles/10.1186/s13321-020-00460-5) 2020）\n",
    "\n",
    "- Cheminformatics in Natural Product-Based Drug Discovery ([Molecular Informatics](https://onlinelibrary.wiley.com/doi/full/10.1002/minf.202000171) 2020)\n",
    "\n",
    "- Molecular property prediction: recent trends in the era of artificial intelligence ([Drug Discovery Today](https://www.sciencedirect.com/science/article/abs/pii/S1740674920300032?via%3Dihub) 2019)\n",
    "\n",
    "- Transfer Learning for Drug Discovery ([J Med Chem](https://pubs.acs.org/doi/abs/10.1021/acs.jmedchem.9b02147) 2020)\n",
    "\n",
    "- Deep Learning in Protein Structural Modeling and Design ([Preprint](https://arxiv.org/abs/2007.08383) 2020)\n",
    "\n",
    "- Machine learning and AI-based approaches for bioactive ligand discovery and GPCR-ligand recognition ([Methods](https://www.sciencedirect.com/science/article/pii/S1046202319302762) 2020)\n",
    "\n",
    "- Machine learning approaches to drug response prediction: challenges and recent progress ([Precision Oncology](https://www.nature.com/articles/s41698-020-0122-1) 2020)\n",
    "\n",
    "- Deep Learning and Knowledge-Based Methods for Computer Aided Molecular Design -- Toward a Unified Approach: State-of-the-Art and Future Directions ([Computers & Chemical Engineering](https://www.sciencedirect.com/science/article/abs/pii/S0098135420304476) 2020)\n",
    "\n",
    "- Deep Learning in Mining Biological Data ([Cognitive Computation](https://link.springer.com/article/10.1007/s12559-020-09773-x) 2021)\n",
    "\n",
    "- Exploring chemical space using natural language processing methodologies for drug discovery ([Drug Discovery Today](https://www.sciencedirect.com/science/article/abs/pii/S1359644620300465) 2020)\n",
    "\n",
    "- Deep learning for molecular design—a review of the state of the art ([Mol Systems Design & Engineering](https://pubs.rsc.org/en/content/articlelanding/2019/me/c9me00039a#!divAbstract) 2019)\n",
    "\n",
    "- Deep generative models for molecular science ([Mol Informatics](https://onlinelibrary.wiley.com/doi/abs/10.1002/minf.201700133) 2018)\n",
    "\n",
    "- Towards reproducible computational drug discovery ([J Cheminformatics](https://jcheminf.biomedcentral.com/articles/10.1186/s13321-020-0408-x) 2020)\n",
    "\n",
    "- The rise of deep learning in drug discovery ([Drug Discovery Today](https://www.sciencedirect.com/science/article/pii/S1359644617303598) 2018)\n",
    "\n",
    "- Deep learning in drug discovery: opportunities, challenges and future prospects ([Drug Discovery Today](https://www.sciencedirect.com/science/article/abs/pii/S135964461930282X) 2019)\n",
    "\n",
    "- Advances of machine learning in molecular modeling and simulation ([Current Opinion in Chemical Engineering](https://www.sciencedirect.com/science/article/abs/pii/S2211339818300832) 2019)\n",
    "\n",
    "- Concepts of Artificial Intelligence for Computer-Assisted Drug Discovery ([Chemical Review](https://pubs.acs.org/doi/10.1021/acs.chemrev.8b00728) 2019)\n",
    "\n",
    "- Drug repurposing: a promising tool to accelerate the drug discovery process ([Drug Discovery Today](https://www.sciencedirect.com/science/article/abs/pii/S1359644618302599?via%3Dihub) 2019)\n",
    "\n",
    "- Advances and Challenges in Computational Target Prediction ([JCIM](https://pubs.acs.org/doi/10.1021/acs.jcim.8b00832) 2019)\n",
    "\n",
    "- ADMET modeling approaches in drug discovery ([Drug Discovery Today](https://www.sciencedirect.com/science/article/abs/pii/S1359644618303301) 2019)\n",
    "\n",
    "- Polypharmacology modelling using proteochemometrics (PCM): recent methodological developments, applications to target families, and future prospects ([MedChemComm](https://pubs.rsc.org/en/content/articlehtml/2015/md/c4md00216d) 2015)\n",
    "\n",
    "- Proteochemometrics – recent developments in bioactivity and selectivity modeling ([Drug Discovery Today](https://www.sciencedirect.com/science/article/pii/S1740674920300111) 2019)\n",
    "\n",
    "- Virtual Compound Libraries in Computer-Assisted Drug Discovery ([JCIM](https://pubs.acs.org/doi/10.1021/acs.jcim.8b00737) 2019)\n",
    "\n",
    "- Conformation Generation: The State of the Art ([JCIM](https://pubs.acs.org/doi/10.1021/acs.jcim.7b00221) 2017)\n",
    "\n",
    "- Opportunities and obstacles for deep learning in biology and medicine ([J Royal Society Interface](https://royalsocietypublishing.org/doi/10.1098/rsif.2017.0387) 2018)\n",
    "\n",
    "- Machine learning in chemoinformatics and drug discovery ([Drug Discovery Today](https://www.sciencedirect.com/science/article/pii/S1359644617304695) 2018)\n",
    "\n",
    "- Deep learning for computational chemistry ([J Comp Chem](https://onlinelibrary.wiley.com/doi/abs/10.1002/jcc.24764) 2017)\n",
    "\n",
    "- A Survey of Multi‐task Learning Methods in Chemoinformatics ([Mol Informatics](https://onlinelibrary.wiley.com/doi/full/10.1002/minf.201800108) 2018)\n",
    "\n",
    "- Deep learning: new computational modelling techniques for genomics ([Nature Reviews Genetics](https://www.nature.com/articles/s41576-019-0122-6) 2019)\n",
    "\n",
    "- Deep Learning in Biomedical Data Science ([Annual Reviews](https://www.annualreviews.org/doi/abs/10.1146/annurev-biodatasci-080917-013343) 2018)\n",
    "\n",
    "- Deep learning for computational biology ([Molecular Syntems Biology](https://www.embopress.org/doi/full/10.15252/msb.20156651) 2016)\n",
    "\n",
    "- Machine Learning in Computer-Aided Synthesis Planning ([Accounts of Chemical Research](https://pubs.acs.org/doi/10.1021/acs.accounts.8b00087) 2018)\n",
    "\n",
    "- Transfer and Multi-task Learning in QSAR Modeling: Advances and Challenges ([Frontiers in Pharmacology](https://www.frontiersin.org/articles/10.3389/fphar.2018.00074/full) 2018)\n",
    "\n",
    "- Machine learning approaches for analyzing and enhancing molecular dynamics simulations ([Current Opinion in Structural Biology](https://www.sciencedirect.com/science/article/abs/pii/S0959440X19301551) 2020)\n",
    "\n",
    "- Autonomous Discovery in the Chemical Sciences Part I: Progress ([Angewandte Chemie](https://onlinelibrary.wiley.com/doi/abs/10.1002/anie.201909987) 2019) \n",
    "\n",
    "- Autonomous Discovery in the Chemical Sciences Part II: Outlook ([Angewandte Chemie](https://onlinelibrary.wiley.com/doi/abs/10.1002/anie.201909989) 2019) \n",
    "\n",
    "- Molecular Representation: Going Long on Fingerprints ([Chem](https://www.cell.com/chem/fulltext/S2451-9294(20)30198-4) 2020)"
   ]
  },
  {
   "cell_type": "markdown",
   "metadata": {},
   "source": [
    "## Prospectives"
   ]
  },
  {
   "cell_type": "markdown",
   "metadata": {},
   "source": [
    "- Rethinking drug design in the artificial intelligence era ([Nature Reviews Drug Discovery](https://www.nature.com/articles/s41573-019-0050-3) 2020)\n",
    "\n",
    "- The quest for novel chemical matter and the contribution of computer-aided de novo design ([Expert Opinion on Drug Discovery](https://www.tandfonline.com/doi/abs/10.1517/17460441.2011.554394?journalCode=iedc20) 2011)\n",
    "\n",
    "- Informatics for Chemistry, Biology, and Biomedical Sciences ([JCIM](https://pubs.acs.org/doi/10.1021/acs.jcim.0c01301) 2021)\n",
    "\n",
    "- Chemists: AI Is Here; Unite To Get the Benefit ([J Med Chem](https://pubs.acs.org/doi/10.1021/acs.jmedchem.0c00163) 2020)\n",
    "\n",
    "- Learning Molecular Representations for Medicinal Chemistry ([J Med Chem](https://pubs.acs.org/doi/10.1021/acs.jmedchem.0c00385) 2020)\n",
    "\n",
    "- Drug Research Meets Network Science: Where Are We? ([J Med Chem](https://pubs.acs.org/doi/10.1021/acs.jmedchem.9b01989) 2020)\n",
    "\n",
    "- Advances in exploring activity cliffs ([J Computer-Aided Molecular Design](https://link.springer.com/article/10.1007/s10822-020-00315-z) 2020)\n",
    "\n",
    "- Current and Future Roles of Artificial Intelligence in Medicinal Chemistry Synthesis ([J Med Chem](https://pubs.acs.org/doi/abs/10.1021/acs.jmedchem.9b02120) 2020)\n",
    "\n",
    "- Recent Advances in Scaffold Hopping ([J Med Chem](https://pubs.acs.org/doi/10.1021/acs.jmedchem.6b01437) 2017)\n",
    "\n",
    "- How to explore chemical space using algorithms and automation ([Nature Reviews Chemistry](https://www.nature.com/articles/s41570-018-0066-y) 2019)\n",
    "\n",
    "- Virtual Compound Libraries in Computer-Assisted Drug Discovery ([JCIM](https://pubs.acs.org/doi/10.1021/acs.jcim.8b00737) 2019)\n",
    "\n",
    "- Automating drug discovery ([Nature Reviews Drug Discovery](https://www.nature.com/articles/nrd.2017.232) 2017)"
   ]
  },
  {
   "cell_type": "markdown",
   "metadata": {},
   "source": [
    "## Opinions"
   ]
  },
  {
   "cell_type": "markdown",
   "metadata": {},
   "source": [
    "- Chemist versus Machine: Traditional Knowledge versus Machine Learning Techniques ([Trends in Chemistry](https://www.cell.com/trends/chemistry/fulltext/S2589-5974(20)30265-3) 2020)\n",
    "\n",
    "- Practical considerations for active machine learning in drug discovery ([Drug Discovery Today](https://www.sciencedirect.com/science/article/abs/pii/S1740674920300019) 2019)\n",
    "\n",
    "- Current Trends, Overlooked Issues, and Unmet Challenges in Virtual Screening ([JCIM](https://pubs.acs.org/doi/10.1021/acs.jcim.9b01101) 2020)\n",
    "\n",
    "- What Will Computational Modeling Approaches Have to Say in the Era of Atomistic Cryo-EM Data? ([JCIM](https://pubs.acs.org/doi/10.1021/acs.jcim.0c00123) 2020)"
   ]
  },
  {
   "cell_type": "markdown",
   "metadata": {},
   "source": [
    "## Reviews/Prospectives in Related Fields"
   ]
  },
  {
   "cell_type": "markdown",
   "metadata": {},
   "source": [
    "- Machine Learning on Graphs: A Model and Comprehensive Taxonomy \n",
    "\n",
    "- Generalizing from a Few Examples: A Survey on Few-Shot Learning\n",
    "\n",
    "- Meta-Learning in Neural Networks: A Survey\n",
    "\n",
    "- Explainable Deep Learning:A Field Guide for the Uninitiated \n",
    "\n",
    "- Pre-trained Models for Natural Language Processing: A Survey\n",
    "\n",
    "- Machine Learning in Python: Main developments and technology trends in data science, machine learning, and artificial intelligence\n",
    "\n",
    "- A Gentle Introduction to Deep Learning for Graphs\n",
    "\n",
    "- A Survey on Multi-Task Learning\n",
    "\n",
    "- Automated Machine Learning: State-of-The-Art and Open Challenges\n",
    "\n",
    "- A Comprehensive Survey on Graph Neural Networks\n",
    "\n",
    "- On the Robustness of Interpretability Methods "
   ]
  }
 ],
 "metadata": {
  "kernelspec": {
   "display_name": "Python 3",
   "language": "python",
   "name": "python3"
  },
  "language_info": {
   "codemirror_mode": {
    "name": "ipython",
    "version": 3
   },
   "file_extension": ".py",
   "mimetype": "text/x-python",
   "name": "python",
   "nbconvert_exporter": "python",
   "pygments_lexer": "ipython3",
   "version": "3.6.12"
  }
 },
 "nbformat": 4,
 "nbformat_minor": 4
}
